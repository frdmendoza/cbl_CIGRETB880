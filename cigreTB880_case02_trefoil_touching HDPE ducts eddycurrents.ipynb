{
 "cells": [
  {
   "cell_type": "markdown",
   "id": "647901f1-6d85-4372-92dc-ff8d2354df61",
   "metadata": {
    "tags": []
   },
   "source": [
    "# CIGRE TB 880 - 2022\n",
    "## Power cable rating examples for calculation tool verification\n",
    "## Case #0-2: Sub-case study with touching HDPE ducts\n",
    "## variant with non-neglected eddy-current\n",
    "\n",
    "Reference IEC standards:\n",
    "- \"IEC 60287-1-1, Electric Cables - Calculation of the Current Rating - Part 1-1: Current Rating Equations (100 % load factor) and Calculation of Losses – General\", IEC,  2014-11.  \n",
    "- \"IEC 60287-2-1, Electric Cables – Calculation of the Current Rating – Part 2-1: Thermal Resistance – Calculation of Thermal Resistance, Edition 2.0\", IEC, 2015-2."
   ]
  },
  {
   "cell_type": "code",
   "execution_count": 69,
   "id": "f27d4e7f-0172-4478-a595-63ec4a5f2497",
   "metadata": {},
   "outputs": [],
   "source": [
    "# Import libraries\n",
    "import math as mt\n",
    "#import numpy as np\n",
    "#import pandas as pd\n",
    "import matplotlib\n",
    "#matplotlib.use('TkAgg')\n",
    "import matplotlib.pyplot as plt "
   ]
  },
  {
   "cell_type": "markdown",
   "id": "3604b992-3112-4825-b45a-617695c13105",
   "metadata": {},
   "source": [
    "# 4.7 Case #0-2: Sub-case study with touching HDPE ducts\n",
    "\n",
    "<div>\n",
    "<img src=\"./img/4_7_trefoil_HDPE_pipes.png\" width=\"150\"/> \n",
    "</div>\n",
    "\n",
    "**Input data:**"
   ]
  },
  {
   "cell_type": "code",
   "execution_count": 70,
   "id": "82ce3f24-f0e2-4ac5-b9b8-057ad0175386",
   "metadata": {},
   "outputs": [],
   "source": [
    "# 4.2.1 Grid parameters\n",
    "\n",
    "U = 132 #[kv] Voltage level\n",
    "f = 50 #[Hz] Frequency"
   ]
  },
  {
   "cell_type": "markdown",
   "id": "3e1f051e-fd4b-490a-ab4e-24c94a5ffcbe",
   "metadata": {},
   "source": [
    "<div>\n",
    "<img src=\"./img/img2_xlpe132kV.png\" width=\"300\"/> <img src=\"./img/img3_cross.png\" width=\"450\"/>\n",
    "</div>"
   ]
  },
  {
   "cell_type": "code",
   "execution_count": 71,
   "id": "735eb1b1-ac83-46fc-b39c-da838c8f339a",
   "metadata": {},
   "outputs": [
    {
     "name": "stdout",
     "output_type": "stream",
     "text": [
      "[30.3, 33.3, 64.3, 66.89999999999999, 68.49999999999999, 75.49999999999999]\n"
     ]
    }
   ],
   "source": [
    "# 4.2.2 Cable parameters\n",
    "\n",
    "# List of the cable composition: [Conductor, Conductor_screen, XLPE_insulation, Insulation_screen, Sheath, Oversheath]\n",
    "thk = [0, 1.5, 15.5, 1.3, 0.8, 3.5] #[mm] Thickness of the layer\n",
    "dia = [0]*6 #[mm] Diameter over the layer. Initialize the size of list \n",
    "dia[0] = 30.3 #[mm] Conductor diameter (630 mm2)\n",
    "\n",
    "\n",
    "for i in range(1,len(dia)):\n",
    "    dia[i] = dia[i-1] + 2*thk[i]\n",
    "print(dia)\n",
    "\n",
    "# Conductor\n",
    "R_0 = 28.3e-6 #[Ohm/m] DC resistance at 20°C. From IEC 60228 Table 2\n",
    "alpha_20 = 3.93e-3 #[K^-1] Temperature coefficient. From IEC 60287-1-1 Table 1 (Copper)\n",
    "k_s = 1 # Skin effect coefficient (round stranded conductor and extruded insulation system). From IEC 60287-1-1 Table 2\n",
    "k_p = 1 # Proximity effect coefficient (round stranded conductor and extruded insulation system). From IEC 60287-1-1 Table 2\n",
    "\n",
    "# Insulation layer\n",
    "epsilon = 2.5 # Relative permittivity. From IEC 60287-1-1 Table 3\n",
    "tan_delta = 0.001 # Loss factor. From IEC 60287-1-1 Table 3\n",
    "rho_i = 3.5 #[Km/W] Thermal resistivity. From CIGRE TB 640 Table 1\n",
    "rho_sc = 2.5 #[Km/W] Thermal resistivity screen (semi-conducting layer). CIGRE WG B1.56, IEC 60949\n",
    "\n",
    "# Metal sheath\n",
    "t_s = thk[4] #[mm] From Manufacturer datasheet\n",
    "rho_s_20 = 2.84e-8 #[Ohm/m] Resistivity at 20°c. From IEC 60287-1-1 Table 1\n",
    "alpha_s_20 = 4.03e-3 #[K^-1] Temperature coefficient. From IEC 60287-1-1 Table 1 (Aluminium)\n",
    "\n",
    "# Oversheath\n",
    "rho_Tos = 3.5 #[Km/W] Thermal resistivity. From IEC 60287-2-1 Table 1"
   ]
  },
  {
   "cell_type": "code",
   "execution_count": 72,
   "id": "04f470c7-a635-4761-8a4e-2f27c63076a9",
   "metadata": {},
   "outputs": [],
   "source": [
    "# 4.2.5 Operating conditions\n",
    "\n",
    "theta_c_max = 90 #[°C] Maximum operating temperature of conductor. User\n",
    "theta_a = 20 #[°C] Ambient ground temperature. From IEC 60287-3-1 Section 3.2.1\n",
    "rho_Tsoil = 1 #[Km/W] Thermal resistivity. From IEC 60287-3-1 Section 3.2.2"
   ]
  },
  {
   "cell_type": "markdown",
   "id": "1c97cea0-4b59-48f4-8c7e-d0072f004986",
   "metadata": {},
   "source": [
    "##  4.7 Case #0-2: Sub-case study with touching HDPE ducts\n",
    "\n"
   ]
  },
  {
   "cell_type": "markdown",
   "id": "616e12f1-ee33-4de9-a0f5-016be0c5a1c6",
   "metadata": {},
   "source": [
    "### 4.4.1 Capacitance\n",
    "\n",
    "$ C = \\frac{\\epsilon}{18\\ln(\\frac{D_i}{d_c})} 10^{-9} $ (F/m). From IEC 60287-1-1 Section 2.2"
   ]
  },
  {
   "cell_type": "code",
   "execution_count": 73,
   "id": "993418d5-0a09-43e5-a8d5-1b2211d7999e",
   "metadata": {},
   "outputs": [
    {
     "name": "stdout",
     "output_type": "stream",
     "text": [
      "C = 2.1107662202E-10 F/m\n"
     ]
    }
   ],
   "source": [
    "# 4.4.1 Capacitance\n",
    "\n",
    "d_c = dia[1] #[mm] diameter of conductor, including screen, if any\n",
    "D_i = dia[2] #[mm] external diameter of the insulation (excluding screen)\n",
    "\n",
    "C = (epsilon/(18*mt.log(D_i/d_c)))*1e-9 #[F/m] From IEC 60287-1-1 Section 2.2\n",
    "print(\"C = %.10E F/m\" % C)"
   ]
  },
  {
   "cell_type": "code",
   "execution_count": 74,
   "id": "7fab0e9f-c7a2-4273-8192-1e2b1914dd64",
   "metadata": {},
   "outputs": [
    {
     "name": "stdout",
     "output_type": "stream",
     "text": [
      "X = 8.9202596895E-05 Ω/m\n"
     ]
    }
   ],
   "source": [
    "# 4.7.1.1 Reactance\n",
    "\n",
    "omega = 2*mt.pi*f #[rad/s] Angular frequency\n",
    "D0 = 140 #[mm] -  diameter of duct (external)\n",
    "Dd = 119.4 #[mm] -  diameter of duct (internal)\n",
    "Dpipe=(D0-Dd)/2 #[mm] - thickness of pipe\n",
    "\n",
    "s = D0#dia[5] #[mm] distance between conductor axes in the electrical section being considered\n",
    "d = D_i + 2*thk[3] + thk[4] #[mm] mean diameter of the sheath\n",
    "\n",
    "\n",
    "X = 2*omega*1e-7*mt.log(2*s/d) #[Ohm/m] From IEC 60287-1-1 Section 2.3.1\n",
    "print(\"X = %.10E \\u03A9/m\" % X)"
   ]
  },
  {
   "cell_type": "code",
   "execution_count": 75,
   "id": "8bd37659-8cb9-4329-a1f1-d5b8d57e87be",
   "metadata": {},
   "outputs": [
    {
     "name": "stdout",
     "output_type": "stream",
     "text": [
      "Rs0 = 1.6691286499E-04 Ω/m\n"
     ]
    }
   ],
   "source": [
    "# 4.4.3 Electrical resistance of the metal sheath at 20°C\n",
    "\n",
    "A_s = mt.pi*d*t_s #[mm2] cross section\n",
    "\n",
    "R_s0 = rho_s_20/(A_s*1e-6) #[Ohm/m]\n",
    "print(\"Rs0 = %.10E \\u03A9/m\" % R_s0)"
   ]
  },
  {
   "cell_type": "code",
   "execution_count": 76,
   "id": "8e009965-6a4a-422c-baf0-9f2a64ed77e1",
   "metadata": {},
   "outputs": [
    {
     "name": "stdout",
     "output_type": "stream",
     "text": [
      "T1 = 0.4198714890 Km/W\n"
     ]
    }
   ],
   "source": [
    "# 4.4.4 Thermal resistance between conductor and sheath\n",
    "\n",
    "t_1 = thk[1:4] #[mm] insulation thickness\n",
    "d_c_arr = dia[0:3] #[mm] diameter\n",
    "rho_T = [rho_sc, rho_i, rho_sc] #[Km/W] Thermal resistivity\n",
    "T1_layer = [0]*len(rho_T) #[Km/W] Thermal resistance\n",
    "\n",
    "for i in range(len(T1_layer)):\n",
    "    T1_layer[i] = (rho_T[i]/(2*mt.pi))*mt.log(1+2*t_1[i]/d_c_arr[i]) #[Km/W] From IEC 60287-2-1 Section 4.1.2.1\n",
    "\n",
    "T1 = sum(T1_layer) #[Km/W]\n",
    "print(\"T1 = %.10f Km/W\" % T1)"
   ]
  },
  {
   "cell_type": "code",
   "execution_count": 77,
   "id": "1fa6cb36-8d13-4b68-bb91-8cf052a9de24",
   "metadata": {},
   "outputs": [
    {
     "name": "stdout",
     "output_type": "stream",
     "text": [
      "T3 = 0.0541996092 Km/W\n"
     ]
    }
   ],
   "source": [
    "# 4.7.1.2 Thermal resistance of the oversheath\n",
    "\n",
    "t_3 = thk[5] #[mm] oversheath thickness\n",
    "D_a = dia[4] #[mm] reference diameter\n",
    "\n",
    "T3 = (1/(2*mt.pi))*rho_Tos*mt.log(1+2*t_3/D_a) #[Km/W] From IEC 60287-2-1 Section 4.1.4.1\n",
    "T3 = T3 #[Km/W] From IEC 60287-2-1 Section 4.1.4.1; without multiplication by a factor 1.6\n",
    "print(\"T3 = %.10f Km/W\" % T3)"
   ]
  },
  {
   "cell_type": "code",
   "execution_count": 78,
   "id": "2bd97694-089a-49fe-b90a-925ea00a3eb7",
   "metadata": {},
   "outputs": [
    {
     "name": "stdout",
     "output_type": "stream",
     "text": [
      "T4_1 = 0.3520961015 Km/W\n",
      "T4_2 = 0.08866064719 Km/W\n",
      "T4_3 = 1.38002093961 Km/W\n",
      "T4 = 1.82077768833 Km/W\n"
     ]
    }
   ],
   "source": [
    "#4.7.2 External thermal resistance\n",
    "#The external thermal resistance of a cable in a duct consists of three parts:\n",
    "# a) The thermal resistance of the air space between the cable surface and duct internal surface T′4,\n",
    "# b) The thermal resistance of the duct itself, T’′4,\n",
    "# c) The external thermal resistance of the duct T’’′4.\n",
    "\n",
    "\n",
    "#4.7.2.1 Thermal resistance between cable and duct (or pipe) T4’\n",
    "Uconstant=1.87 #constant for plastic duct; table 4\n",
    "V=0.312 #constant for plastic duct; table 4\n",
    "Y=0.0037 #constant for plastic duct; table 4\n",
    "De = dia[5] #[mm], diameter\n",
    "Om=70 #[celsius], maximum operating temperature\n",
    "\n",
    "T4_1 = Uconstant/(1+0.1*(V+Y*Om)*De)\n",
    "print(\"T4_1 = %.10f Km/W\" % T4_1)\n",
    "\n",
    "\n",
    "#4.7.2.2 Thermal resistance of the duct (or pipe) itself T4′′\n",
    "T4_2 = (1/(2*mt.pi))*rho_Tos*mt.log(D0/Dd)\n",
    "print(\"T4_2 = %.11f Km/W\" % T4_2)\n",
    "\n",
    "#4.7.2.3 External thermal resistance of the duct (or pipe) T4′′′\n",
    "L = 1000 #[mm]\n",
    "u = 2*L/D0\n",
    "rho_T_ex = 1 #[Km/W]\n",
    "T4_3 = 1/(2*mt.pi)*(mt.log(2*u)+2*mt.log(u))\n",
    "print(\"T4_3 = %.11f Km/W\" % T4_3)\n",
    "\n",
    "\n",
    "T4 = T4_1+T4_2+T4_3 #[Km/W]\n",
    "print(\"T4 = %.11f Km/W\" % T4)"
   ]
  },
  {
   "cell_type": "code",
   "execution_count": 79,
   "id": "2dd3e5ff-c2f1-45ae-952c-0c3d6958b721",
   "metadata": {},
   "outputs": [
    {
     "name": "stdout",
     "output_type": "stream",
     "text": [
      "Wd = 0.3851382172 W/m\n"
     ]
    }
   ],
   "source": [
    "# 4.4.7 Dielectric losses\n",
    "\n",
    "U_0 = U/mt.sqrt(3)*1e3 #[V]\n",
    "\n",
    "W_d = omega*C*U_0*U_0*tan_delta #[W/m] From IEC 60287-1-1 Section 2.2\n",
    "\n",
    "print(\"Wd = %.10f W/m\" % W_d)"
   ]
  },
  {
   "cell_type": "markdown",
   "id": "6346190d-c4c9-48f4-a3a5-a9d4d7f0e054",
   "metadata": {
    "tags": []
   },
   "source": [
    "## 4.5 case #0-1: Results dependent on the temperature\n",
    "### 4.5.1  Results linked to the maximum operating temperature\n",
    "### 4.5.2 First iteration & 4.5.3 Next iterations"
   ]
  },
  {
   "cell_type": "code",
   "execution_count": 80,
   "id": "871b93a1-733c-4503-abc3-37f9555caa4c",
   "metadata": {},
   "outputs": [
    {
     "name": "stdout",
     "output_type": "stream",
     "text": [
      "Iteration:  1\n",
      "Rs = 2.0727239574E-04 Ohm/m\n",
      "X = 8.9202596895E-05 Ohm/m\n",
      "λ1 = 0.8387035149\n",
      "M = 2.3236139188\n",
      "λ1 = 0.8570756101\n",
      "I = 677.6482890238 A\n",
      "Wc = 17.7344309780 W/m\n",
      "Ws = 15.1997482497 W/m\n",
      "θj = 80.6670697940 °C\n",
      "θs = 82.4729637797 °C\n",
      "θc = 90.0000000000 °C\n",
      "θs = 82.4729637797 °C\n",
      "Iteration:  2\n",
      "Rs = 2.0893585670E-04 Ohm/m\n",
      "X = 8.9202596895E-05 Ohm/m\n",
      "λ1 = 0.8340933281\n",
      "M = 2.3422620414\n",
      "λ1 = 0.8523711532\n",
      "I = 679.8360945075 A\n",
      "Wc = 17.8491279928 W/m\n",
      "Ws = 15.2140818114 W/m\n",
      "θj = 80.6119183807 °C\n",
      "θs = 82.4248057733 °C\n",
      "θc = 90.0000000000 °C\n",
      "θs = 82.4248057733 °C\n",
      "Iteration:  3\n",
      "Rs = 2.0890346279E-04 Ohm/m\n",
      "X = 8.9202596895E-05 Ohm/m\n",
      "λ1 = 0.8341827790\n",
      "M = 2.3418988915\n",
      "λ1 = 0.8524624349\n",
      "I = 679.8405981065 A\n",
      "Wc = 17.8493644780 W/m\n",
      "Ws = 15.2159127043 W/m\n",
      "θj = 80.6117070363 °C\n",
      "θs = 82.4247064800 °C\n",
      "θc = 90.0000000000 °C\n",
      "θs = 82.4247064800 °C\n",
      "Iteration:  4\n",
      "Rs = 2.0890339600E-04 Ohm/m\n",
      "X = 8.9202596895E-05 Ohm/m\n",
      "λ1 = 0.8341829634\n",
      "M = 2.3418981428\n",
      "λ1 = 0.8524626231\n",
      "I = 679.8409759290 A\n",
      "Wc = 17.8493843176 W/m\n",
      "Ws = 15.2159329765 W/m\n",
      "θj = 80.6116965321 °C\n",
      "θs = 82.4246981499 °C\n",
      "θc = 90.0000000000 °C\n",
      "θs = 82.4246981499 °C\n",
      "Iteration:  5\n",
      "Rs = 2.0890339040E-04 Ohm/m\n",
      "X = 8.9202596895E-05 Ohm/m\n",
      "λ1 = 0.8341829789\n",
      "M = 2.3418980800\n",
      "λ1 = 0.8524626389\n",
      "I = 679.8409803472 A\n",
      "Wc = 17.8493845496 W/m\n",
      "Ws = 15.2159334561 W/m\n",
      "θj = 80.6116963962 °C\n",
      "θs = 82.4246980524 °C\n",
      "θc = 90.0000000000 °C\n",
      "θs = 82.4246980524 °C\n",
      "Iteration:  6\n",
      "Rs = 2.0890339033E-04 Ohm/m\n",
      "X = 8.9202596895E-05 Ohm/m\n",
      "λ1 = 0.8341829791\n",
      "M = 2.3418980792\n",
      "λ1 = 0.8524626391\n",
      "I = 679.8409804485 A\n",
      "Wc = 17.8493845549 W/m\n",
      "Ws = 15.2159334639 W/m\n",
      "θj = 80.6116963932 °C\n",
      "θs = 82.4246980502 °C\n",
      "θc = 90.0000000000 °C\n",
      "θs = 82.4246980502 °C\n",
      "Iteration:  7\n",
      "Rs = 2.0890339033E-04 Ohm/m\n",
      "X = 8.9202596895E-05 Ohm/m\n",
      "λ1 = 0.8341829791\n",
      "M = 2.3418980792\n",
      "λ1 = 0.8524626391\n",
      "I = 679.8409804501 A\n",
      "Wc = 17.8493845550 W/m\n",
      "Ws = 15.2159334641 W/m\n",
      "θj = 80.6116963932 °C\n",
      "θs = 82.4246980502 °C\n",
      "θc = 90.0000000000 °C\n",
      "θs = 82.4246980502 °C\n",
      "Iteration:  8\n",
      "Rs = 2.0890339033E-04 Ohm/m\n",
      "X = 8.9202596895E-05 Ohm/m\n",
      "λ1 = 0.8341829791\n",
      "M = 2.3418980792\n",
      "λ1 = 0.8524626391\n",
      "I = 679.8409804502 A\n",
      "Wc = 17.8493845550 W/m\n",
      "Ws = 15.2159334641 W/m\n",
      "θj = 80.6116963932 °C\n",
      "θs = 82.4246980502 °C\n",
      "θc = 90.0000000000 °C\n",
      "θs = 82.4246980502 °C\n",
      "Iteration:  9\n",
      "Rs = 2.0890339033E-04 Ohm/m\n",
      "X = 8.9202596895E-05 Ohm/m\n",
      "λ1 = 0.8341829791\n",
      "M = 2.3418980792\n",
      "λ1 = 0.8524626391\n",
      "I = 679.8409804502 A\n",
      "Wc = 17.8493845550 W/m\n",
      "Ws = 15.2159334641 W/m\n",
      "θj = 80.6116963932 °C\n",
      "θs = 82.4246980502 °C\n",
      "θc = 90.0000000000 °C\n",
      "Convergence reached after  9 iterations\n"
     ]
    }
   ],
   "source": [
    "# Criteria of convergence\n",
    "tempTol = 1e-11 #[K] Temperature tolerance threshold for convergence\n",
    "currTol = 1e-11 #[A] Current tolerance threshold for convergence\n",
    "maxIte = 10 # Maximum number of iterations\n",
    "\n",
    "# Other parameters\n",
    "n = 1 # Single-core cable\n",
    "d_c = dia[0] # Conductor diameter\n",
    "lambda_2 = 0 # The cable is unarmoured\n",
    "T2 = 0 # The cable is unarmoured\n",
    "# NOTE: IEC ArmoUred Cable is not the same that NEC(NFPA 70) Armored Cable (Type AC - Article 320), which is similar to Metal-Clad Cable (Type MC Article 330)\n",
    "\n",
    "# Variable Preallocation\n",
    "R = [0]*maxIte #[Ohm/m] AC resistance of conductor\n",
    "R_s = [0]*maxIte #[Ohm/m] Resistance of sheath\n",
    "lambda_1 = [0]*maxIte # Loss factor\n",
    "I = [0]*maxIte #[A] Current rating\n",
    "W_c = [0]*maxIte #[W/m] Conductor losses\n",
    "W_s = [0]*maxIte #[W/m] Sheath losses\n",
    "theta_c = [0]*maxIte #[°C] Conductor operation temperature\n",
    "theta_s = [0]*maxIte #[°C] Sheath temperature\n",
    "\n",
    "# Initial values\n",
    "theta_c[0] = theta_c_max # Maximum allowable conductor temperature\n",
    "theta_s[0] = theta_c_max-10 # Assumption to initializate!\n",
    "\n",
    "for i in range(maxIte):\n",
    "    print(\"Iteration: %2d\" % (i+1))\n",
    "\n",
    "\n",
    "    T4_1 = Uconstant/(1+0.1*(V+Y*Om)*De)\n",
    "    T4 = T4_1+T4_2+T4_3 #[Km/W]\n",
    "    #print(\"T4 iteration = %.10f Km/W\" % T4)\n",
    "\n",
    "    # 4.5.1  Results linked to the maximum operating temperature\n",
    "    # 4.5.1.1 DC resistance of conductor\n",
    "    R_prime = R_0*(1+alpha_20*(theta_c[i]-20)) #[Ohm/m] From IEC 60287-1-1 Section 2.1.1\n",
    "    #print(\"R' = %.10E W/m\" % R_prime)\n",
    "    \n",
    "    # 4.5.1.2 Skin effect factor\n",
    "    x_s = mt.sqrt(8*mt.pi*f/R_prime*1e-7*k_s) # From IEC 60287-1-1 Section 2.1.2\n",
    "    # For 0 < x_s <= 2,8\n",
    "    y_s = x_s**4/(192+0.8*x_s**4)\n",
    "    #print(\"xs = %.10f\\nys = %.10f\" % (x_s, y_s))\n",
    "    \n",
    "    # 4.5.1.3 Proximity effect factor \n",
    "    x_p = mt.sqrt(8*mt.pi*f/R_prime*1e-7*k_p) # From IEC 60287-1-1 Section 2.1.4.1\n",
    "    y_p = x_p**4/(192+0.8*x_p**4)*(d_c/s)**2*(0.312*(d_c/s)**2+1.18/(x_p**4/(192+0.8*x_p**4)+0.27))\n",
    "    #print(\"xp = %.10f\\nyp = %.10f\" % (x_p, y_p))\n",
    "    \n",
    "    # 4.5.1.4 AC resistance of conductor \n",
    "    R[i] = R_prime*(1+y_s+y_p) #[Ohm/m] From IEC 60287-1-1 Section 2.1\n",
    "    #print(\"R = %.10E Ohm/m\" % R[i])\n",
    "    \n",
    "    # 4.5.2 First iteration & 4.5.3 Next iterations\n",
    "    # 4.5.2.1 Resistance of sheath at operating temperature\n",
    "    R_s[i] = R_s0*(1+alpha_s_20*(theta_s[i]-20)) #[Ohm/m] From IEC 60287-1-1 Section 2.3\n",
    "    print(\"Rs = %.10E Ohm/m\" % R_s[i])\n",
    "    print(\"X = %.10E Ohm/m\" % X)\n",
    "    \n",
    "    # 4.5.2.2 Losses caused by circulating currents\n",
    "    lambda_1_prime = (R_s[i]/R[i])*(1/(1+(R_s[i]/X)**2)) # From IEC 60287-1-1 Section 2.3.1; TB-880 4.5.2.2\n",
    "    lambda_1_prime2 = 0\n",
    "    lambda_1[i] = lambda_1_prime + lambda_1_prime2\n",
    "    print(\"\\u03BB1 = %.10f\" % lambda_1[i])\n",
    "\n",
    "    ### EDDY CURRENTS - START\n",
    "\n",
    "    #4.6.3.1 Losses caused by eddy currents (Dielectric losses taken into account)\n",
    "    rho_s = rho_s_20*(1+alpha_s_20*(theta_s[i]-20)) #[Ohm/m]\n",
    "\n",
    "    beta_1 = mt.sqrt(4*mt.pi*omega/(1e7*rho_s)) # From IEC 60287-1-1 Section 2.3.6.1\n",
    "    m = (omega/R_s[i])*1e-7\n",
    "    D_s = dia[4] # Diameter after metal sheath\n",
    "    g_s = 1 + (t_s/D_s)**1.74*(beta_1*D_s*1e-3-1.6) # From IEC 60287-1-1 Section 2.3.6.1\n",
    "    # For cables in trefoil formation\n",
    "    lambda_0 = 3*(m**2/(1+m**2))*(d/(2*s))**2 # From IEC 60287-1-1 Section 2.3.6.1\n",
    "    Delta_1 = (1.14*m**2.45+0.33)*(d/(2*s))**(0.92*m+1.66)\n",
    "    Delta_2 = 0\n",
    "    \n",
    "    lambda_1_prime2 = R_s[i]/R[i]*(g_s*lambda_0*(1+Delta_1+Delta_2)+((beta_1*t_s)**4/12e12))\n",
    "    \n",
    "    # 4.6.4.1 Reduction of the eddy currents losses by the circulating currents \n",
    "    M = R_s[i]/X # From IEC 60287-1-1 Section 2.3.5\n",
    "    N = M # For cables in trefoil formation\n",
    "    print(\"M = %.10f\" % M)\n",
    "    F = (4*M**2*N**2+(M+N)**2)/(4*(M**2+1)*(N**2+1))\n",
    "    \n",
    "    lambda_1_prime2 = F*lambda_1_prime2\n",
    "    \n",
    "    lambda_1[i] = lambda_1_prime + lambda_1_prime2\n",
    "    print(\"\\u03BB1 = %.10f\" % lambda_1[i])\n",
    "\n",
    "    ### EDDY CURRENTS - END\n",
    "\n",
    "    \n",
    "    # 4.5.2.3 Permissible current rating\n",
    "    Delta_theta = theta_c[i] - theta_a\n",
    "    I[i] = mt.sqrt((Delta_theta-W_d*(0.5*T1+n*(T2+T3+T4)))/(R[i]*T1+n*R[i]*(1+lambda_1[i])*T2+n*R[i]*(1+lambda_1[i]+lambda_2)*(T3+T4))) #[A] From IEC 60287-1-1 Section 1.4.1.1\n",
    "    print(\"I = %.10f A\" % I[i])\n",
    "    \n",
    "    # 4.5.2.4 Losses in conductor and sheath\n",
    "    W_c[i] = R[i]*I[i]**2 #[W/m]\n",
    "    W_s[i] = lambda_1[i]*W_c[i] #[W/m]\n",
    "    print(\"Wc = %.10f W/m\\nWs = %.10f W/m\" % (W_c[i], W_s[i]))\n",
    "    \n",
    "    # 4.5.2.5 Temperature on cable components\n",
    "    theta_j = theta_a + n*(W_c[i]+W_s[i]+W_d)*T4 #[°C] Jacket. From IEC 60287-1-1 Section 1.4.1.1\n",
    "    theta_s[i] = theta_j + n*(W_c[i]+W_s[i]+W_d)*T3 #[°C] Metal sheath \n",
    "    theta_c[i] = theta_s[i] + n*(W_c[i]+W_d/2)*T1 #[°C] Conductor\n",
    "    print(\"\\u03B8j = %.10f °C\\n\\u03B8s = %.10f °C\\n\\u03B8c = %.10f °C\" % (theta_j, theta_s[i], theta_c[i]))\n",
    "    \n",
    "    # Convergence evaluation\n",
    "    Delta_theta_s = abs(theta_s[i] - theta_s[i-1])\n",
    "    Delta_theta_c = abs(theta_c[i] - theta_c[i-1])\n",
    "    Delta_theta1 = max(Delta_theta_s, Delta_theta_c)\n",
    "    Delta_I = abs(I[i] - I[i-1])\n",
    "    \n",
    "    if (Delta_theta1 < tempTol) and (Delta_I < currTol):\n",
    "        print(\"Convergence reached after %2d iterations\" % (i+1))\n",
    "        break\n",
    "    elif i+1 == maxIte:\n",
    "        print(\"Convergence criteria not reached after %2d iterations\" % maxIte)\n",
    "    else:        \n",
    "        Om = theta_j-0.5*T4_1*(W_c[i]+W_d+W_s[i]) #mean air gap temperature value change\n",
    "        theta_s[i+1] = theta_s[i] # Update for next iteration \n",
    "        print(\"\\u03B8s = %.10f °C\" % (theta_s[i+1]))\n",
    "        theta_c[i+1] = theta_c[i]"
   ]
  },
  {
   "cell_type": "markdown",
   "id": "637311d6-9f48-47e4-8413-62b6267f9d5e",
   "metadata": {},
   "source": [
    "### Results"
   ]
  },
  {
   "cell_type": "code",
   "execution_count": 81,
   "id": "5957dc03-af4f-4841-870a-9018df3a14ad",
   "metadata": {},
   "outputs": [
    {
     "data": {
      "image/png": "[encoded data removed]",
      "text/plain": [
       "<Figure size 640x480 with 1 Axes>"
      ]
     },
     "metadata": {},
     "output_type": "display_data"
    }
   ],
   "source": [
    "# Permissible current convergence plot\n",
    "I = I[:i+1]\n",
    "\n",
    "plt.figure()\n",
    "plt.plot(list(range(1,i+2)),I)\n",
    "plt.xlabel('Iterations')\n",
    "plt.ylabel('Permissible current [A]')\n",
    "plt.show()"
   ]
  },
  {
   "cell_type": "code",
   "execution_count": 82,
   "id": "b5519496-3d0e-462c-aa1b-7c3ac8e4d9bf",
   "metadata": {},
   "outputs": [
    {
     "name": "stdout",
     "output_type": "stream",
     "text": [
      "The permissible current rating of one conductor is equal to 679.840980 A\n",
      "The permissible current rating of one conductor is equal to   670 A\n"
     ]
    }
   ],
   "source": [
    "# Permissible current rounding\n",
    "print(\"The permissible current rating of one conductor is equal to %10f A\" % I[i]) \n",
    "\n",
    "if I[i] < 200:\n",
    "    I_rating = int(I[i])\n",
    "elif I[i] < 500:\n",
    "    I_rating = int(I[i]/5)*5\n",
    "else:\n",
    "    I_rating = int(I[i]/10)*10\n",
    "     \n",
    "print(\"The permissible current rating of one conductor is equal to %5d A\" % I_rating)"
   ]
  }
 ],
 "metadata": {
  "kernelspec": {
   "display_name": "Python 3 (ipykernel)",
   "language": "python",
   "name": "python3"
  },
  "language_info": {
   "codemirror_mode": {
    "name": "ipython",
    "version": 3
   },
   "file_extension": ".py",
   "mimetype": "text/x-python",
   "name": "python",
   "nbconvert_exporter": "python",
   "pygments_lexer": "ipython3",
   "version": "3.9.13"
  }
 },
 "nbformat": 4,
 "nbformat_minor": 5
}
